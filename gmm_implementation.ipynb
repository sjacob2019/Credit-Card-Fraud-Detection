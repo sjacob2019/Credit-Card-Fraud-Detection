{
 "cells": [
  {
   "cell_type": "code",
   "execution_count": 1,
   "metadata": {},
   "outputs": [],
   "source": [
    "import numpy as np\n",
    "import pandas as pd\n",
    "from sklearn.mixture import GaussianMixture\n",
    "from sklearn.metrics import silhouette_score, confusion_matrix, ConfusionMatrixDisplay, fowlkes_mallows_score\n",
    "from sklearn.model_selection import KFold\n",
    "from sklearn.preprocessing import MinMaxScaler\n",
    "import matplotlib.pyplot as plt"
   ]
  },
  {
   "cell_type": "code",
   "execution_count": 2,
   "metadata": {},
   "outputs": [
    {
     "data": {
      "text/html": [
       "<div>\n",
       "<style scoped>\n",
       "    .dataframe tbody tr th:only-of-type {\n",
       "        vertical-align: middle;\n",
       "    }\n",
       "\n",
       "    .dataframe tbody tr th {\n",
       "        vertical-align: top;\n",
       "    }\n",
       "\n",
       "    .dataframe thead th {\n",
       "        text-align: right;\n",
       "    }\n",
       "</style>\n",
       "<table border=\"1\" class=\"dataframe\">\n",
       "  <thead>\n",
       "    <tr style=\"text-align: right;\">\n",
       "      <th></th>\n",
       "      <th>Time</th>\n",
       "      <th>V1</th>\n",
       "      <th>V2</th>\n",
       "      <th>V3</th>\n",
       "      <th>V4</th>\n",
       "      <th>V5</th>\n",
       "      <th>V6</th>\n",
       "      <th>V7</th>\n",
       "      <th>V8</th>\n",
       "      <th>V9</th>\n",
       "      <th>...</th>\n",
       "      <th>V21</th>\n",
       "      <th>V22</th>\n",
       "      <th>V23</th>\n",
       "      <th>V24</th>\n",
       "      <th>V25</th>\n",
       "      <th>V26</th>\n",
       "      <th>V27</th>\n",
       "      <th>V28</th>\n",
       "      <th>Amount</th>\n",
       "      <th>Class</th>\n",
       "    </tr>\n",
       "  </thead>\n",
       "  <tbody>\n",
       "    <tr>\n",
       "      <th>0</th>\n",
       "      <td>0.0</td>\n",
       "      <td>-1.359807</td>\n",
       "      <td>-0.072781</td>\n",
       "      <td>2.536347</td>\n",
       "      <td>1.378155</td>\n",
       "      <td>-0.338321</td>\n",
       "      <td>0.462388</td>\n",
       "      <td>0.239599</td>\n",
       "      <td>0.098698</td>\n",
       "      <td>0.363787</td>\n",
       "      <td>...</td>\n",
       "      <td>-0.018307</td>\n",
       "      <td>0.277838</td>\n",
       "      <td>-0.110474</td>\n",
       "      <td>0.066928</td>\n",
       "      <td>0.128539</td>\n",
       "      <td>-0.189115</td>\n",
       "      <td>0.133558</td>\n",
       "      <td>-0.021053</td>\n",
       "      <td>149.62</td>\n",
       "      <td>0</td>\n",
       "    </tr>\n",
       "    <tr>\n",
       "      <th>1</th>\n",
       "      <td>0.0</td>\n",
       "      <td>1.191857</td>\n",
       "      <td>0.266151</td>\n",
       "      <td>0.166480</td>\n",
       "      <td>0.448154</td>\n",
       "      <td>0.060018</td>\n",
       "      <td>-0.082361</td>\n",
       "      <td>-0.078803</td>\n",
       "      <td>0.085102</td>\n",
       "      <td>-0.255425</td>\n",
       "      <td>...</td>\n",
       "      <td>-0.225775</td>\n",
       "      <td>-0.638672</td>\n",
       "      <td>0.101288</td>\n",
       "      <td>-0.339846</td>\n",
       "      <td>0.167170</td>\n",
       "      <td>0.125895</td>\n",
       "      <td>-0.008983</td>\n",
       "      <td>0.014724</td>\n",
       "      <td>2.69</td>\n",
       "      <td>0</td>\n",
       "    </tr>\n",
       "    <tr>\n",
       "      <th>2</th>\n",
       "      <td>1.0</td>\n",
       "      <td>-1.358354</td>\n",
       "      <td>-1.340163</td>\n",
       "      <td>1.773209</td>\n",
       "      <td>0.379780</td>\n",
       "      <td>-0.503198</td>\n",
       "      <td>1.800499</td>\n",
       "      <td>0.791461</td>\n",
       "      <td>0.247676</td>\n",
       "      <td>-1.514654</td>\n",
       "      <td>...</td>\n",
       "      <td>0.247998</td>\n",
       "      <td>0.771679</td>\n",
       "      <td>0.909412</td>\n",
       "      <td>-0.689281</td>\n",
       "      <td>-0.327642</td>\n",
       "      <td>-0.139097</td>\n",
       "      <td>-0.055353</td>\n",
       "      <td>-0.059752</td>\n",
       "      <td>378.66</td>\n",
       "      <td>0</td>\n",
       "    </tr>\n",
       "    <tr>\n",
       "      <th>3</th>\n",
       "      <td>1.0</td>\n",
       "      <td>-0.966272</td>\n",
       "      <td>-0.185226</td>\n",
       "      <td>1.792993</td>\n",
       "      <td>-0.863291</td>\n",
       "      <td>-0.010309</td>\n",
       "      <td>1.247203</td>\n",
       "      <td>0.237609</td>\n",
       "      <td>0.377436</td>\n",
       "      <td>-1.387024</td>\n",
       "      <td>...</td>\n",
       "      <td>-0.108300</td>\n",
       "      <td>0.005274</td>\n",
       "      <td>-0.190321</td>\n",
       "      <td>-1.175575</td>\n",
       "      <td>0.647376</td>\n",
       "      <td>-0.221929</td>\n",
       "      <td>0.062723</td>\n",
       "      <td>0.061458</td>\n",
       "      <td>123.50</td>\n",
       "      <td>0</td>\n",
       "    </tr>\n",
       "    <tr>\n",
       "      <th>4</th>\n",
       "      <td>2.0</td>\n",
       "      <td>-1.158233</td>\n",
       "      <td>0.877737</td>\n",
       "      <td>1.548718</td>\n",
       "      <td>0.403034</td>\n",
       "      <td>-0.407193</td>\n",
       "      <td>0.095921</td>\n",
       "      <td>0.592941</td>\n",
       "      <td>-0.270533</td>\n",
       "      <td>0.817739</td>\n",
       "      <td>...</td>\n",
       "      <td>-0.009431</td>\n",
       "      <td>0.798278</td>\n",
       "      <td>-0.137458</td>\n",
       "      <td>0.141267</td>\n",
       "      <td>-0.206010</td>\n",
       "      <td>0.502292</td>\n",
       "      <td>0.219422</td>\n",
       "      <td>0.215153</td>\n",
       "      <td>69.99</td>\n",
       "      <td>0</td>\n",
       "    </tr>\n",
       "  </tbody>\n",
       "</table>\n",
       "<p>5 rows × 31 columns</p>\n",
       "</div>"
      ],
      "text/plain": [
       "   Time        V1        V2        V3        V4        V5        V6        V7  \\\n",
       "0   0.0 -1.359807 -0.072781  2.536347  1.378155 -0.338321  0.462388  0.239599   \n",
       "1   0.0  1.191857  0.266151  0.166480  0.448154  0.060018 -0.082361 -0.078803   \n",
       "2   1.0 -1.358354 -1.340163  1.773209  0.379780 -0.503198  1.800499  0.791461   \n",
       "3   1.0 -0.966272 -0.185226  1.792993 -0.863291 -0.010309  1.247203  0.237609   \n",
       "4   2.0 -1.158233  0.877737  1.548718  0.403034 -0.407193  0.095921  0.592941   \n",
       "\n",
       "         V8        V9  ...       V21       V22       V23       V24       V25  \\\n",
       "0  0.098698  0.363787  ... -0.018307  0.277838 -0.110474  0.066928  0.128539   \n",
       "1  0.085102 -0.255425  ... -0.225775 -0.638672  0.101288 -0.339846  0.167170   \n",
       "2  0.247676 -1.514654  ...  0.247998  0.771679  0.909412 -0.689281 -0.327642   \n",
       "3  0.377436 -1.387024  ... -0.108300  0.005274 -0.190321 -1.175575  0.647376   \n",
       "4 -0.270533  0.817739  ... -0.009431  0.798278 -0.137458  0.141267 -0.206010   \n",
       "\n",
       "        V26       V27       V28  Amount  Class  \n",
       "0 -0.189115  0.133558 -0.021053  149.62      0  \n",
       "1  0.125895 -0.008983  0.014724    2.69      0  \n",
       "2 -0.139097 -0.055353 -0.059752  378.66      0  \n",
       "3 -0.221929  0.062723  0.061458  123.50      0  \n",
       "4  0.502292  0.219422  0.215153   69.99      0  \n",
       "\n",
       "[5 rows x 31 columns]"
      ]
     },
     "metadata": {},
     "output_type": "display_data"
    }
   ],
   "source": [
    "# Read in CSV Data\n",
    "dataset = pd.read_csv('./data/creditcard.csv')\n",
    "display(dataset.head())"
   ]
  },
  {
   "cell_type": "code",
   "execution_count": 3,
   "metadata": {},
   "outputs": [],
   "source": [
    "\"\"\"\n",
    "Preprocessing steps\n",
    "1. Shuffle the dataset\n",
    "2. Separate the labels from the data\n",
    "3. Normalize the data via MinMaxScalar\n",
    "\"\"\"\n",
    "# Shuffling the dataset\n",
    "dataset = dataset.sample(frac=1).reset_index(drop=True)\n",
    "\n",
    "# Separating the labels from the data\n",
    "labels = dataset['Class']\n",
    "unsupervised_data = dataset.drop(columns=['Class'])\n",
    "\n",
    "# Normalizing by Min/Max Scalar\n",
    "unsupervised_data = MinMaxScaler(feature_range=(0, 1)).fit_transform(unsupervised_data)"
   ]
  },
  {
   "cell_type": "code",
   "execution_count": 32,
   "metadata": {},
   "outputs": [],
   "source": [
    "\"\"\"\n",
    "Utility functions for generating models and getting results\n",
    "\"\"\"\n",
    "### Util functions to train models ###\n",
    "def get_trained_model(x_train: np.ndarray, num_iterations: int) -> GaussianMixture:\n",
    "    gmm = GaussianMixture(n_components=2, n_init=num_iterations)\n",
    "    return gmm.fit(x_train)\n",
    "\n",
    "def get_train_test_splits(X: np.ndarray, Y: np.ndarray, train_index: np.ndarray, test_index: np.ndarray) -> tuple:\n",
    "    x_train, x_test = X[train_index], X[test_index]\n",
    "    y_train, y_test = Y[train_index], Y[test_index]\n",
    "    return x_train, x_test, y_train, y_test\n",
    "\n",
    "def get_model_predictions(model: GaussianMixture, x_test: np.ndarray, y_test: np.ndarray):\n",
    "    predictions = model.predict(x_test)\n",
    "    return x_test, y_test, predictions\n",
    "\n",
    "### Util functions for displaying results\n",
    "def get_confusion_matrices(results: list) -> list:\n",
    "    matrices_of_confusion = []\n",
    "    for i, (x_test, ground_truth, prediction) in enumerate(results):\n",
    "        cm = confusion_matrix(ground_truth, prediction)\n",
    "        if cm[0][0] < cm[0][1]:\n",
    "            print(\"matrix switch\")\n",
    "            results[i] = (x_test, ground_truth, 1 - prediction)\n",
    "            cm = confusion_matrix(ground_truth, 1 - prediction)\n",
    "        matrices_of_confusion.append(cm)\n",
    "    return matrices_of_confusion\n",
    "\n",
    "def get_recall_rates(matrices_of_confusion: list) -> list:\n",
    "    recall_rates = []\n",
    "    for confusion_matrix in matrices_of_confusion:\n",
    "        recall = confusion_matrix[1][1] / (np.sum(confusion_matrix[1]))\n",
    "        recall_rates.append(recall)\n",
    "    return recall_rates\n",
    "\n",
    "def get_accuracies(results: list) -> list:\n",
    "    accuracies = []\n",
    "    for _, y_test, prediction in results:\n",
    "        accuracy = np.count_nonzero(y_test == prediction) / len(y_test)\n",
    "        accuracies.append(accuracy)\n",
    "    return accuracies\n",
    "\n",
    "def get_silhouette_scores(results: list) -> list:\n",
    "    scores = []\n",
    "    for x_test, _, prediction in results:\n",
    "        score = silhouette_score(x_test, prediction)\n",
    "        scores.append(score)\n",
    "    return scores\n",
    "\n",
    "def get_fowlkes_mallows_scores(results: list) -> list:\n",
    "    scores = []\n",
    "    for _, ground_truth, prediction in results:\n",
    "        score = fowlkes_mallows_score(ground_truth, prediction)\n",
    "        scores.append(score)\n",
    "    return scores\n",
    "\n",
    "def plot_clusterings(results: list) -> None:\n",
    "    for count, (x_test, y_test, prediction_test) in enumerate(results):\n",
    "        colors = {\n",
    "            0: \"green\",\n",
    "            1: \"red\"\n",
    "        }\n",
    "        for group in np.unique(y_test):\n",
    "            indexes = np.where(group == prediction_test)\n",
    "            plt.scatter(\n",
    "                x_test[indexes, 1],\n",
    "                x_test[indexes, 2],\n",
    "                c=colors[group],\n",
    "                s=5,\n",
    "                label=group,\n",
    "            )\n",
    "        plt.title(f\"Visualization of Clusterings using V1 and V2 for k={count + 1}\")    \n",
    "        plt.legend()\n",
    "        plt.show()"
   ]
  },
  {
   "cell_type": "code",
   "execution_count": 6,
   "metadata": {},
   "outputs": [
    {
     "name": "stdout",
     "output_type": "stream",
     "text": [
      "Running fold # 1\n",
      "Splitting Data\n",
      "Training Model\n",
      "Testing and Obtaining Results\n",
      "\n",
      "Running fold # 2\n",
      "Splitting Data\n",
      "Training Model\n",
      "Testing and Obtaining Results\n",
      "\n"
     ]
    }
   ],
   "source": [
    "# With basic K_Fold Validation (5 folds)\n",
    "K_FOLDS = 5\n",
    "NUM_ITERATIONS = 10\n",
    "\n",
    "results = []\n",
    "count = 0\n",
    "for train_index, test_index in KFold(shuffle=True, n_splits=K_FOLDS).split(unsupervised_data):\n",
    "    count += 1\n",
    "    print(f'Running fold # {count}')\n",
    "\n",
    "    # Splitting data and obtaining trained model\n",
    "    print(\"Splitting Data\")\n",
    "    x_train, x_test, _, y_test = get_train_test_splits(unsupervised_data, labels, train_index, test_index)\n",
    "    \n",
    "    # Training Model\n",
    "    print(\"Training Model\")\n",
    "    model = get_trained_model(x_train, NUM_ITERATIONS)\n",
    "\n",
    "    # Get Test Results for Models\n",
    "    print(\"Testing and Obtaining Results\")\n",
    "    print()\n",
    "    test_result = get_model_predictions(model, x_test, y_test)\n",
    "    results.append(test_result)"
   ]
  },
  {
   "cell_type": "code",
   "execution_count": 28,
   "metadata": {},
   "outputs": [
    {
     "data": {
      "image/png": "[encoded data removed]",
      "text/plain": [
       "<Figure size 432x288 with 2 Axes>"
      ]
     },
     "metadata": {
      "needs_background": "light"
     },
     "output_type": "display_data"
    },
    {
     "data": {
      "image/png": "[encoded data removed]",
      "text/plain": [
       "<Figure size 432x288 with 2 Axes>"
      ]
     },
     "metadata": {
      "needs_background": "light"
     },
     "output_type": "display_data"
    }
   ],
   "source": [
    "# Displaying Confusion Matrices\n",
    "for matrix in get_confusion_matrices(results):\n",
    "    ConfusionMatrixDisplay(matrix).plot()"
   ]
  },
  {
   "cell_type": "code",
   "execution_count": null,
   "metadata": {},
   "outputs": [],
   "source": [
    "# Display other metrics\n",
    "accuracies = get_accuracies(results)\n",
    "recalls = get_recall_rates(get_confusion_matrices(results))\n",
    "silhouette_scores = get_silhouette_scores(results)\n",
    "fowlkes_mallows_scores = get_fowlkes_mallows_scores(results)\n",
    "\n",
    "print(f'Overall accuracies: {accuracies}')\n",
    "print(f'Overall recall rates: {recalls}')\n",
    "print(f'Silhouette Scores: {silhouette_scores}')\n",
    "print(f'Fowlkes Mallows Scores: {fowlkes_mallows_scores}')"
   ]
  },
  {
   "cell_type": "code",
   "execution_count": 33,
   "metadata": {},
   "outputs": [
    {
     "data": {
      "image/png": "[encoded data removed]",
      "text/plain": [
       "<Figure size 432x288 with 1 Axes>"
      ]
     },
     "metadata": {
      "needs_background": "light"
     },
     "output_type": "display_data"
    },
    {
     "data": {
      "image/png": "[encoded data removed]",
      "text/plain": [
       "<Figure size 432x288 with 1 Axes>"
      ]
     },
     "metadata": {
      "needs_background": "light"
     },
     "output_type": "display_data"
    }
   ],
   "source": [
    "# Plotting Clusterings with respect to just V1 and V2\n",
    "plot_clusterings(results)"
   ]
  },
  {
   "cell_type": "code",
   "execution_count": null,
   "metadata": {},
   "outputs": [],
   "source": []
  }
 ],
 "metadata": {
  "interpreter": {
   "hash": "285a1a2a88ec4c06ab8af7baa253401f07b7487c84c964fda011e5216fa6ae9a"
  },
  "kernelspec": {
   "display_name": "Python 3.7.11 64-bit ('ml-project': conda)",
   "language": "python",
   "name": "python3"
  },
  "language_info": {
   "codemirror_mode": {
    "name": "ipython",
    "version": 3
   },
   "file_extension": ".py",
   "mimetype": "text/x-python",
   "name": "python",
   "nbconvert_exporter": "python",
   "pygments_lexer": "ipython3",
   "version": "3.7.11"
  },
  "orig_nbformat": 4
 },
 "nbformat": 4,
 "nbformat_minor": 2
}
