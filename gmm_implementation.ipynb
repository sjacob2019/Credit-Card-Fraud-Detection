{
 "cells": [
  {
   "cell_type": "code",
   "execution_count": 7,
   "metadata": {},
   "outputs": [],
   "source": [
    "import numpy as np\n",
    "import pandas as pd\n",
    "from sklearn.decomposition import PCA\n",
    "from sklearn.model_selection import train_test_split\n",
    "from sklearn.metrics import silhouette_score\n",
    "from sklearn.mixture import GaussianMixture\n",
    "from sklearn.preprocessing import StandardScaler, LabelEncoder\n",
    "from sklearn.pipeline import Pipeline\n",
    "import matplotlib.pyplot as plt"
   ]
  },
  {
   "cell_type": "code",
   "execution_count": 8,
   "metadata": {},
   "outputs": [],
   "source": [
    "df = pd.read_csv('./data/good_data/fraudTrain.csv')"
   ]
  },
  {
   "cell_type": "code",
   "execution_count": 9,
   "metadata": {},
   "outputs": [],
   "source": [
    "# Drop Unecessary Data\n",
    "# First, last name, job, dob unecessary PII\n",
    "# Get rid of labels for unsupervised learning (is_fraud)\n",
    "# CC_Num, trans_num unique identifier so not necessary\n",
    "# Merchant: Already have location so not necessary\n",
    "# Street, city, and zip not necessary since we have lat and lng\n",
    "\n",
    "unecessary_columns = [\n",
    "    'first', \n",
    "    'last', \n",
    "    'cc_num', \n",
    "    'merchant',\n",
    "    'is_fraud',\n",
    "    'street', \n",
    "    'city', \n",
    "    'zip', \n",
    "    'city_pop',\n",
    "    'job',\n",
    "    'dob',\n",
    "    'trans_num',\n",
    "    'trans_date_trans_time',\n",
    "    'unix_time',\n",
    "    'state',\n",
    "    'Unnamed: 0'\n",
    "]\n",
    "unsupervised_df = df.drop(columns=unecessary_columns)\n",
    "\n",
    "le = LabelEncoder()\n",
    "unsupervised_df['category'] = le.fit_transform(unsupervised_df['category'])\n",
    "unsupervised_df['gender'] = le.fit_transform(unsupervised_df['gender'])"
   ]
  },
  {
   "cell_type": "code",
   "execution_count": 10,
   "metadata": {},
   "outputs": [],
   "source": [
    "scalar = StandardScaler()\n",
    "pc_df = scalar.fit_transform(unsupervised_df)"
   ]
  },
  {
   "cell_type": "code",
   "execution_count": 11,
   "metadata": {},
   "outputs": [],
   "source": [
    "x_train, x_test = train_test_split(pc_df, test_size=0.2)"
   ]
  },
  {
   "cell_type": "code",
   "execution_count": null,
   "metadata": {},
   "outputs": [],
   "source": [
    "# Using GMM\n",
    "EM = GaussianMixture(n_components=2)\n",
    "EM.fit(x_train)\n",
    "\n",
    "print(silhouette_score(x_test, EM.predict(x_test)))"
   ]
  }
 ],
 "metadata": {
  "interpreter": {
   "hash": "285a1a2a88ec4c06ab8af7baa253401f07b7487c84c964fda011e5216fa6ae9a"
  },
  "kernelspec": {
   "display_name": "Python 3.7.11 64-bit ('ml-project': conda)",
   "language": "python",
   "name": "python3"
  },
  "language_info": {
   "codemirror_mode": {
    "name": "ipython",
    "version": 3
   },
   "file_extension": ".py",
   "mimetype": "text/x-python",
   "name": "python",
   "nbconvert_exporter": "python",
   "pygments_lexer": "ipython3",
   "version": "3.7.11"
  },
  "orig_nbformat": 4
 },
 "nbformat": 4,
 "nbformat_minor": 2
}
