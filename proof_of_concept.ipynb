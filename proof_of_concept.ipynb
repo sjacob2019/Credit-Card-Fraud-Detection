{
 "cells": [
  {
   "cell_type": "code",
   "execution_count": 24,
   "metadata": {},
   "outputs": [],
   "source": [
    "import pandas as pd \n",
    "import numpy as np\n",
    "import matplotlib.pyplot as plt\n",
    "from sklearn.preprocessing import StandardScaler\n",
    "from sklearn.mixture import GaussianMixture\n",
    "from sklearn.metrics import silhouette_score"
   ]
  },
  {
   "cell_type": "code",
   "execution_count": 18,
   "metadata": {},
   "outputs": [],
   "source": [
    "# Reading Data into CSV\n",
    "data_df = pd.read_csv('./data/bad_data/creditcard.csv')\n",
    "\n",
    "unsupervised_df = data_df.copy().drop(columns=['Class'])\n",
    "# Shuffle the data\n",
    "unsupervised_df = unsupervised_df.sample(frac=1).reset_index(drop=True)\n",
    "\n",
    "train_split = unsupervised_df[:round(len(unsupervised_df) * 0.8)]\n",
    "test_split = unsupervised_df[round(len(unsupervised_df) * 0.8):]"
   ]
  },
  {
   "cell_type": "code",
   "execution_count": 26,
   "metadata": {},
   "outputs": [],
   "source": [
    "EM = GaussianMixture(n_components=2)\n",
    "EM.fit(train_split.to_numpy())\n",
    "clusters = EM.predict(train_split.to_numpy())"
   ]
  },
  {
   "cell_type": "code",
   "execution_count": 27,
   "metadata": {},
   "outputs": [
    {
     "data": {
      "text/plain": [
       "0.00048164165746954223"
      ]
     },
     "execution_count": 27,
     "metadata": {},
     "output_type": "execute_result"
    }
   ],
   "source": [
    "silhouette_score(train_split.to_numpy(), clusters)"
   ]
  },
  {
   "cell_type": "code",
   "execution_count": null,
   "metadata": {},
   "outputs": [],
   "source": []
  }
 ],
 "metadata": {
  "interpreter": {
   "hash": "285a1a2a88ec4c06ab8af7baa253401f07b7487c84c964fda011e5216fa6ae9a"
  },
  "kernelspec": {
   "display_name": "Python 3.7.11 64-bit ('ml-project': conda)",
   "name": "python3"
  },
  "language_info": {
   "codemirror_mode": {
    "name": "ipython",
    "version": 3
   },
   "file_extension": ".py",
   "mimetype": "text/x-python",
   "name": "python",
   "nbconvert_exporter": "python",
   "pygments_lexer": "ipython3",
   "version": "3.7.11"
  },
  "orig_nbformat": 4
 },
 "nbformat": 4,
 "nbformat_minor": 2
}
